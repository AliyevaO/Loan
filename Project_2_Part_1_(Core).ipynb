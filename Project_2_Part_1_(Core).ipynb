{
  "nbformat": 4,
  "nbformat_minor": 0,
  "metadata": {
    "colab": {
      "name": "Project 2 - Part 1 (Core).ipynb",
      "provenance": [],
      "collapsed_sections": [],
      "authorship_tag": "ABX9TyPndmT0Oj8k5OzHOCjwLYUk",
      "include_colab_link": true
    },
    "kernelspec": {
      "name": "python3",
      "display_name": "Python 3"
    },
    "language_info": {
      "name": "python"
    }
  },
  "cells": [
    {
      "cell_type": "markdown",
      "metadata": {
        "id": "view-in-github",
        "colab_type": "text"
      },
      "source": [
        "<a href=\"https://colab.research.google.com/github/AliyevaO/Loan/blob/main/Project_2_Part_1_(Core).ipynb\" target=\"_parent\"><img src=\"https://colab.research.google.com/assets/colab-badge.svg\" alt=\"Open In Colab\"/></a>"
      ]
    },
    {
      "cell_type": "markdown",
      "source": [
        "* Oleksandra Aliyeva\n",
        "* 03.12.2022"
      ],
      "metadata": {
        "id": "LByOshEgStP4"
      }
    },
    {
      "cell_type": "markdown",
      "source": [
        "## Dataset 1\n",
        "\n",
        "\n"
      ],
      "metadata": {
        "id": "C2qZLZq3S0Zq"
      }
    },
    {
      "cell_type": "code",
      "execution_count": 1,
      "metadata": {
        "colab": {
          "base_uri": "https://localhost:8080/"
        },
        "id": "TgEsbqEqSnKQ",
        "outputId": "d1d23a4e-7dad-4837-e9a5-31f749019598"
      },
      "outputs": [
        {
          "output_type": "stream",
          "name": "stdout",
          "text": [
            "Mounted at /content/drive\n"
          ]
        }
      ],
      "source": [
        "#mount google disk\n",
        "from google.colab import drive\n",
        "drive.mount('/content/drive')"
      ]
    },
    {
      "cell_type": "code",
      "source": [
        "import pandas as pd\n",
        "import numpy as np\n",
        "import matplotlib.pyplot as plt\n",
        "import seaborn as sns\n",
        "\n",
        "#import some necessary tools\n",
        "from sklearn.model_selection import train_test_split\n",
        "from sklearn.pipeline import make_pipeline\n",
        "from sklearn.preprocessing import StandardScaler, OneHotEncoder\n",
        "from sklearn.compose import make_column_transformer, make_column_selector\n",
        "from sklearn.impute import SimpleImputer\n",
        "\n",
        "#import models for ML\n",
        "from sklearn.linear_model import LogisticRegression\n",
        "from sklearn.neighbors import KNeighborsClassifier\n",
        "from sklearn.ensemble import  RandomForestClassifier\n",
        "\n",
        "#import accuracy, precision, recall, classification report, and confusion matrix scoring functions\n",
        "from sklearn.metrics import accuracy_score, classification_report, ConfusionMatrixDisplay\n",
        "from sklearn.model_selection import GridSearchCV \n",
        "from sklearn import set_config\n",
        "set_config(display='diagram')"
      ],
      "metadata": {
        "id": "lwayDC17C1x-"
      },
      "execution_count": 2,
      "outputs": []
    },
    {
      "cell_type": "markdown",
      "source": [
        "1) Source of data:\n",
        "\n",
        "https://www.kaggle.com/vikramkumar001/partial-bank-loan-dataset"
      ],
      "metadata": {
        "id": "ipHHckTMDTog"
      }
    },
    {
      "cell_type": "code",
      "source": [
        "loan_df = pd.read_csv('/content/drive/MyDrive/Bootcamp/Data/partial_loan_dataset.csv')\n",
        "loan_df.head()"
      ],
      "metadata": {
        "colab": {
          "base_uri": "https://localhost:8080/",
          "height": 353
        },
        "id": "zXG63tZnCf_A",
        "outputId": "945cba20-7c10-4dc9-f540-5024ea115afb"
      },
      "execution_count": 3,
      "outputs": [
        {
          "output_type": "execute_result",
          "data": {
            "text/plain": [
              "   Loan_ID  Gender Married  Dependent_No     Education  Self_Employed  \\\n",
              "0    23002    Male    True             3      Graduate           True   \n",
              "1    23003  Female    True             3  Not Graduate           True   \n",
              "2    23004    Male    True             3  Not Graduate           True   \n",
              "3    23005    Male    True             2  Not Graduate          False   \n",
              "4    23006    Male   False             2  Not Graduate          False   \n",
              "\n",
              "   Applicant_Income  CoApplicant_Income  Loan_Amount  Loan_Amount_Term  \\\n",
              "0              4315             19748.0        60000               300   \n",
              "1              3331             29657.0        20000                60   \n",
              "2             22494             29539.0        30000               240   \n",
              "3             78117             12909.0        20000                60   \n",
              "4             41976             45598.0        60000               300   \n",
              "\n",
              "   Credit History Property_District  Loan_Status  \n",
              "0               1               OCR            1  \n",
              "1               0               OCR            1  \n",
              "2               1               RCR            1  \n",
              "3               0               OCR            1  \n",
              "4               1               RCR            1  "
            ],
            "text/html": [
              "\n",
              "  <div id=\"df-4b73c246-388b-4e17-809e-2b0305d9da9c\">\n",
              "    <div class=\"colab-df-container\">\n",
              "      <div>\n",
              "<style scoped>\n",
              "    .dataframe tbody tr th:only-of-type {\n",
              "        vertical-align: middle;\n",
              "    }\n",
              "\n",
              "    .dataframe tbody tr th {\n",
              "        vertical-align: top;\n",
              "    }\n",
              "\n",
              "    .dataframe thead th {\n",
              "        text-align: right;\n",
              "    }\n",
              "</style>\n",
              "<table border=\"1\" class=\"dataframe\">\n",
              "  <thead>\n",
              "    <tr style=\"text-align: right;\">\n",
              "      <th></th>\n",
              "      <th>Loan_ID</th>\n",
              "      <th>Gender</th>\n",
              "      <th>Married</th>\n",
              "      <th>Dependent_No</th>\n",
              "      <th>Education</th>\n",
              "      <th>Self_Employed</th>\n",
              "      <th>Applicant_Income</th>\n",
              "      <th>CoApplicant_Income</th>\n",
              "      <th>Loan_Amount</th>\n",
              "      <th>Loan_Amount_Term</th>\n",
              "      <th>Credit History</th>\n",
              "      <th>Property_District</th>\n",
              "      <th>Loan_Status</th>\n",
              "    </tr>\n",
              "  </thead>\n",
              "  <tbody>\n",
              "    <tr>\n",
              "      <th>0</th>\n",
              "      <td>23002</td>\n",
              "      <td>Male</td>\n",
              "      <td>True</td>\n",
              "      <td>3</td>\n",
              "      <td>Graduate</td>\n",
              "      <td>True</td>\n",
              "      <td>4315</td>\n",
              "      <td>19748.0</td>\n",
              "      <td>60000</td>\n",
              "      <td>300</td>\n",
              "      <td>1</td>\n",
              "      <td>OCR</td>\n",
              "      <td>1</td>\n",
              "    </tr>\n",
              "    <tr>\n",
              "      <th>1</th>\n",
              "      <td>23003</td>\n",
              "      <td>Female</td>\n",
              "      <td>True</td>\n",
              "      <td>3</td>\n",
              "      <td>Not Graduate</td>\n",
              "      <td>True</td>\n",
              "      <td>3331</td>\n",
              "      <td>29657.0</td>\n",
              "      <td>20000</td>\n",
              "      <td>60</td>\n",
              "      <td>0</td>\n",
              "      <td>OCR</td>\n",
              "      <td>1</td>\n",
              "    </tr>\n",
              "    <tr>\n",
              "      <th>2</th>\n",
              "      <td>23004</td>\n",
              "      <td>Male</td>\n",
              "      <td>True</td>\n",
              "      <td>3</td>\n",
              "      <td>Not Graduate</td>\n",
              "      <td>True</td>\n",
              "      <td>22494</td>\n",
              "      <td>29539.0</td>\n",
              "      <td>30000</td>\n",
              "      <td>240</td>\n",
              "      <td>1</td>\n",
              "      <td>RCR</td>\n",
              "      <td>1</td>\n",
              "    </tr>\n",
              "    <tr>\n",
              "      <th>3</th>\n",
              "      <td>23005</td>\n",
              "      <td>Male</td>\n",
              "      <td>True</td>\n",
              "      <td>2</td>\n",
              "      <td>Not Graduate</td>\n",
              "      <td>False</td>\n",
              "      <td>78117</td>\n",
              "      <td>12909.0</td>\n",
              "      <td>20000</td>\n",
              "      <td>60</td>\n",
              "      <td>0</td>\n",
              "      <td>OCR</td>\n",
              "      <td>1</td>\n",
              "    </tr>\n",
              "    <tr>\n",
              "      <th>4</th>\n",
              "      <td>23006</td>\n",
              "      <td>Male</td>\n",
              "      <td>False</td>\n",
              "      <td>2</td>\n",
              "      <td>Not Graduate</td>\n",
              "      <td>False</td>\n",
              "      <td>41976</td>\n",
              "      <td>45598.0</td>\n",
              "      <td>60000</td>\n",
              "      <td>300</td>\n",
              "      <td>1</td>\n",
              "      <td>RCR</td>\n",
              "      <td>1</td>\n",
              "    </tr>\n",
              "  </tbody>\n",
              "</table>\n",
              "</div>\n",
              "      <button class=\"colab-df-convert\" onclick=\"convertToInteractive('df-4b73c246-388b-4e17-809e-2b0305d9da9c')\"\n",
              "              title=\"Convert this dataframe to an interactive table.\"\n",
              "              style=\"display:none;\">\n",
              "        \n",
              "  <svg xmlns=\"http://www.w3.org/2000/svg\" height=\"24px\"viewBox=\"0 0 24 24\"\n",
              "       width=\"24px\">\n",
              "    <path d=\"M0 0h24v24H0V0z\" fill=\"none\"/>\n",
              "    <path d=\"M18.56 5.44l.94 2.06.94-2.06 2.06-.94-2.06-.94-.94-2.06-.94 2.06-2.06.94zm-11 1L8.5 8.5l.94-2.06 2.06-.94-2.06-.94L8.5 2.5l-.94 2.06-2.06.94zm10 10l.94 2.06.94-2.06 2.06-.94-2.06-.94-.94-2.06-.94 2.06-2.06.94z\"/><path d=\"M17.41 7.96l-1.37-1.37c-.4-.4-.92-.59-1.43-.59-.52 0-1.04.2-1.43.59L10.3 9.45l-7.72 7.72c-.78.78-.78 2.05 0 2.83L4 21.41c.39.39.9.59 1.41.59.51 0 1.02-.2 1.41-.59l7.78-7.78 2.81-2.81c.8-.78.8-2.07 0-2.86zM5.41 20L4 18.59l7.72-7.72 1.47 1.35L5.41 20z\"/>\n",
              "  </svg>\n",
              "      </button>\n",
              "      \n",
              "  <style>\n",
              "    .colab-df-container {\n",
              "      display:flex;\n",
              "      flex-wrap:wrap;\n",
              "      gap: 12px;\n",
              "    }\n",
              "\n",
              "    .colab-df-convert {\n",
              "      background-color: #E8F0FE;\n",
              "      border: none;\n",
              "      border-radius: 50%;\n",
              "      cursor: pointer;\n",
              "      display: none;\n",
              "      fill: #1967D2;\n",
              "      height: 32px;\n",
              "      padding: 0 0 0 0;\n",
              "      width: 32px;\n",
              "    }\n",
              "\n",
              "    .colab-df-convert:hover {\n",
              "      background-color: #E2EBFA;\n",
              "      box-shadow: 0px 1px 2px rgba(60, 64, 67, 0.3), 0px 1px 3px 1px rgba(60, 64, 67, 0.15);\n",
              "      fill: #174EA6;\n",
              "    }\n",
              "\n",
              "    [theme=dark] .colab-df-convert {\n",
              "      background-color: #3B4455;\n",
              "      fill: #D2E3FC;\n",
              "    }\n",
              "\n",
              "    [theme=dark] .colab-df-convert:hover {\n",
              "      background-color: #434B5C;\n",
              "      box-shadow: 0px 1px 3px 1px rgba(0, 0, 0, 0.15);\n",
              "      filter: drop-shadow(0px 1px 2px rgba(0, 0, 0, 0.3));\n",
              "      fill: #FFFFFF;\n",
              "    }\n",
              "  </style>\n",
              "\n",
              "      <script>\n",
              "        const buttonEl =\n",
              "          document.querySelector('#df-4b73c246-388b-4e17-809e-2b0305d9da9c button.colab-df-convert');\n",
              "        buttonEl.style.display =\n",
              "          google.colab.kernel.accessAllowed ? 'block' : 'none';\n",
              "\n",
              "        async function convertToInteractive(key) {\n",
              "          const element = document.querySelector('#df-4b73c246-388b-4e17-809e-2b0305d9da9c');\n",
              "          const dataTable =\n",
              "            await google.colab.kernel.invokeFunction('convertToInteractive',\n",
              "                                                     [key], {});\n",
              "          if (!dataTable) return;\n",
              "\n",
              "          const docLinkHtml = 'Like what you see? Visit the ' +\n",
              "            '<a target=\"_blank\" href=https://colab.research.google.com/notebooks/data_table.ipynb>data table notebook</a>'\n",
              "            + ' to learn more about interactive tables.';\n",
              "          element.innerHTML = '';\n",
              "          dataTable['output_type'] = 'display_data';\n",
              "          await google.colab.output.renderOutput(dataTable, element);\n",
              "          const docLink = document.createElement('div');\n",
              "          docLink.innerHTML = docLinkHtml;\n",
              "          element.appendChild(docLink);\n",
              "        }\n",
              "      </script>\n",
              "    </div>\n",
              "  </div>\n",
              "  "
            ]
          },
          "metadata": {},
          "execution_count": 3
        }
      ]
    },
    {
      "cell_type": "markdown",
      "source": [
        "2) Brief description of data.\n",
        "\n",
        "This Data set has information about appications for reciving a loan. \n",
        "Company wants to identify applicants that are eligible for the loan amount requested so that those who met the requirements will be granted loan and reject those who failed.\n",
        "Using Machine Learning Models I will need to make a prediction if person is iligible for loan or not."
      ],
      "metadata": {
        "id": "2XbDpXm1Dfqk"
      }
    },
    {
      "cell_type": "code",
      "source": [
        "loan_df.info()"
      ],
      "metadata": {
        "colab": {
          "base_uri": "https://localhost:8080/"
        },
        "id": "2MkXdrr7FWrP",
        "outputId": "615cce19-b923-4b86-989c-7c74c8c51fbb"
      },
      "execution_count": 4,
      "outputs": [
        {
          "output_type": "stream",
          "name": "stdout",
          "text": [
            "<class 'pandas.core.frame.DataFrame'>\n",
            "RangeIndex: 5584 entries, 0 to 5583\n",
            "Data columns (total 13 columns):\n",
            " #   Column              Non-Null Count  Dtype  \n",
            "---  ------              --------------  -----  \n",
            " 0   Loan_ID             5584 non-null   int64  \n",
            " 1   Gender              5425 non-null   object \n",
            " 2   Married             5328 non-null   object \n",
            " 3   Dependent_No        5584 non-null   int64  \n",
            " 4   Education           5218 non-null   object \n",
            " 5   Self_Employed       5584 non-null   bool   \n",
            " 6   Applicant_Income    5584 non-null   int64  \n",
            " 7   CoApplicant_Income  4999 non-null   float64\n",
            " 8   Loan_Amount         5584 non-null   int64  \n",
            " 9   Loan_Amount_Term    5584 non-null   int64  \n",
            " 10  Credit History      5584 non-null   int64  \n",
            " 11  Property_District   5578 non-null   object \n",
            " 12  Loan_Status         5584 non-null   int64  \n",
            "dtypes: bool(1), float64(1), int64(7), object(4)\n",
            "memory usage: 529.1+ KB\n"
          ]
        }
      ]
    },
    {
      "cell_type": "markdown",
      "source": [
        "3) What is the target?\n",
        "\n",
        "My target column will be - 'Loan_Status' \n",
        "\n",
        "4) Is this a classification or regression problem?\n",
        "\n",
        "It is a classification problem. I decided to choose a set for classification, because I used regression in my first Project.\n",
        "\n",
        "5) How many features? \n",
        "\n",
        "This Data has 13 columns.\n",
        "\n",
        "6) How many rows of data?\n",
        "\n",
        "This Data has 5584 rows."
      ],
      "metadata": {
        "id": "6zugkZLaFaoo"
      }
    },
    {
      "cell_type": "code",
      "source": [
        "loan_df.shape"
      ],
      "metadata": {
        "colab": {
          "base_uri": "https://localhost:8080/"
        },
        "id": "BV0WIkFBHHFs",
        "outputId": "1a68a41c-7a7a-4e20-f80b-bc64cf43e0e4"
      },
      "execution_count": 5,
      "outputs": [
        {
          "output_type": "execute_result",
          "data": {
            "text/plain": [
              "(5584, 13)"
            ]
          },
          "metadata": {},
          "execution_count": 5
        }
      ]
    },
    {
      "cell_type": "markdown",
      "source": [
        "\n",
        "7) What, if any, challenges do your foresee in cleaning, exploring, or modeling with this dataset?\n",
        "\n",
        "I think everything we did before will help me to do cleaning, the rest will not be very difficult for me because I'm familiar with loan aprovement proces. "
      ],
      "metadata": {
        "id": "au_ddojCHJND"
      }
    },
    {
      "cell_type": "markdown",
      "source": [
        "## Dataset 2"
      ],
      "metadata": {
        "id": "cA0ncyfFI6Rj"
      }
    },
    {
      "cell_type": "markdown",
      "source": [
        "1) Source of data:\n",
        "\n",
        "https://www.kaggle.com/nurulsyazanaramlee/diabetes-prediction"
      ],
      "metadata": {
        "id": "KfDJpK-bI6Ix"
      }
    },
    {
      "cell_type": "code",
      "source": [
        "diabetes_df = pd.read_csv('/content/drive/MyDrive/Bootcamp/Data/diabetesprediction.csv.xls')\n",
        "diabetes_df.head()"
      ],
      "metadata": {
        "colab": {
          "base_uri": "https://localhost:8080/",
          "height": 204
        },
        "id": "8m6eOqx4I0c7",
        "outputId": "2ede98b3-6a2a-49ee-fc89-7a3ad5ff5039"
      },
      "execution_count": 6,
      "outputs": [
        {
          "output_type": "execute_result",
          "data": {
            "text/plain": [
              "   NoofPregnancies  GlucoseLevel  DiastolicPressure  Insulin Level   BMI  \\\n",
              "0                6           148                 72              0  33.6   \n",
              "1                1            85                 66              0  26.6   \n",
              "2                8           183                 64              0  23.3   \n",
              "3                1            89                 66             94  28.1   \n",
              "4                0           137                 40            168  43.1   \n",
              "\n",
              "   RelativeHistory  Age  Diabetic  \n",
              "0            0.627   50         1  \n",
              "1            0.351   31         0  \n",
              "2            0.672   32         1  \n",
              "3            0.167   21         0  \n",
              "4            2.288   33         1  "
            ],
            "text/html": [
              "\n",
              "  <div id=\"df-4a0c1881-f6e5-4c5c-a8cb-d949b25a40aa\">\n",
              "    <div class=\"colab-df-container\">\n",
              "      <div>\n",
              "<style scoped>\n",
              "    .dataframe tbody tr th:only-of-type {\n",
              "        vertical-align: middle;\n",
              "    }\n",
              "\n",
              "    .dataframe tbody tr th {\n",
              "        vertical-align: top;\n",
              "    }\n",
              "\n",
              "    .dataframe thead th {\n",
              "        text-align: right;\n",
              "    }\n",
              "</style>\n",
              "<table border=\"1\" class=\"dataframe\">\n",
              "  <thead>\n",
              "    <tr style=\"text-align: right;\">\n",
              "      <th></th>\n",
              "      <th>NoofPregnancies</th>\n",
              "      <th>GlucoseLevel</th>\n",
              "      <th>DiastolicPressure</th>\n",
              "      <th>Insulin Level</th>\n",
              "      <th>BMI</th>\n",
              "      <th>RelativeHistory</th>\n",
              "      <th>Age</th>\n",
              "      <th>Diabetic</th>\n",
              "    </tr>\n",
              "  </thead>\n",
              "  <tbody>\n",
              "    <tr>\n",
              "      <th>0</th>\n",
              "      <td>6</td>\n",
              "      <td>148</td>\n",
              "      <td>72</td>\n",
              "      <td>0</td>\n",
              "      <td>33.6</td>\n",
              "      <td>0.627</td>\n",
              "      <td>50</td>\n",
              "      <td>1</td>\n",
              "    </tr>\n",
              "    <tr>\n",
              "      <th>1</th>\n",
              "      <td>1</td>\n",
              "      <td>85</td>\n",
              "      <td>66</td>\n",
              "      <td>0</td>\n",
              "      <td>26.6</td>\n",
              "      <td>0.351</td>\n",
              "      <td>31</td>\n",
              "      <td>0</td>\n",
              "    </tr>\n",
              "    <tr>\n",
              "      <th>2</th>\n",
              "      <td>8</td>\n",
              "      <td>183</td>\n",
              "      <td>64</td>\n",
              "      <td>0</td>\n",
              "      <td>23.3</td>\n",
              "      <td>0.672</td>\n",
              "      <td>32</td>\n",
              "      <td>1</td>\n",
              "    </tr>\n",
              "    <tr>\n",
              "      <th>3</th>\n",
              "      <td>1</td>\n",
              "      <td>89</td>\n",
              "      <td>66</td>\n",
              "      <td>94</td>\n",
              "      <td>28.1</td>\n",
              "      <td>0.167</td>\n",
              "      <td>21</td>\n",
              "      <td>0</td>\n",
              "    </tr>\n",
              "    <tr>\n",
              "      <th>4</th>\n",
              "      <td>0</td>\n",
              "      <td>137</td>\n",
              "      <td>40</td>\n",
              "      <td>168</td>\n",
              "      <td>43.1</td>\n",
              "      <td>2.288</td>\n",
              "      <td>33</td>\n",
              "      <td>1</td>\n",
              "    </tr>\n",
              "  </tbody>\n",
              "</table>\n",
              "</div>\n",
              "      <button class=\"colab-df-convert\" onclick=\"convertToInteractive('df-4a0c1881-f6e5-4c5c-a8cb-d949b25a40aa')\"\n",
              "              title=\"Convert this dataframe to an interactive table.\"\n",
              "              style=\"display:none;\">\n",
              "        \n",
              "  <svg xmlns=\"http://www.w3.org/2000/svg\" height=\"24px\"viewBox=\"0 0 24 24\"\n",
              "       width=\"24px\">\n",
              "    <path d=\"M0 0h24v24H0V0z\" fill=\"none\"/>\n",
              "    <path d=\"M18.56 5.44l.94 2.06.94-2.06 2.06-.94-2.06-.94-.94-2.06-.94 2.06-2.06.94zm-11 1L8.5 8.5l.94-2.06 2.06-.94-2.06-.94L8.5 2.5l-.94 2.06-2.06.94zm10 10l.94 2.06.94-2.06 2.06-.94-2.06-.94-.94-2.06-.94 2.06-2.06.94z\"/><path d=\"M17.41 7.96l-1.37-1.37c-.4-.4-.92-.59-1.43-.59-.52 0-1.04.2-1.43.59L10.3 9.45l-7.72 7.72c-.78.78-.78 2.05 0 2.83L4 21.41c.39.39.9.59 1.41.59.51 0 1.02-.2 1.41-.59l7.78-7.78 2.81-2.81c.8-.78.8-2.07 0-2.86zM5.41 20L4 18.59l7.72-7.72 1.47 1.35L5.41 20z\"/>\n",
              "  </svg>\n",
              "      </button>\n",
              "      \n",
              "  <style>\n",
              "    .colab-df-container {\n",
              "      display:flex;\n",
              "      flex-wrap:wrap;\n",
              "      gap: 12px;\n",
              "    }\n",
              "\n",
              "    .colab-df-convert {\n",
              "      background-color: #E8F0FE;\n",
              "      border: none;\n",
              "      border-radius: 50%;\n",
              "      cursor: pointer;\n",
              "      display: none;\n",
              "      fill: #1967D2;\n",
              "      height: 32px;\n",
              "      padding: 0 0 0 0;\n",
              "      width: 32px;\n",
              "    }\n",
              "\n",
              "    .colab-df-convert:hover {\n",
              "      background-color: #E2EBFA;\n",
              "      box-shadow: 0px 1px 2px rgba(60, 64, 67, 0.3), 0px 1px 3px 1px rgba(60, 64, 67, 0.15);\n",
              "      fill: #174EA6;\n",
              "    }\n",
              "\n",
              "    [theme=dark] .colab-df-convert {\n",
              "      background-color: #3B4455;\n",
              "      fill: #D2E3FC;\n",
              "    }\n",
              "\n",
              "    [theme=dark] .colab-df-convert:hover {\n",
              "      background-color: #434B5C;\n",
              "      box-shadow: 0px 1px 3px 1px rgba(0, 0, 0, 0.15);\n",
              "      filter: drop-shadow(0px 1px 2px rgba(0, 0, 0, 0.3));\n",
              "      fill: #FFFFFF;\n",
              "    }\n",
              "  </style>\n",
              "\n",
              "      <script>\n",
              "        const buttonEl =\n",
              "          document.querySelector('#df-4a0c1881-f6e5-4c5c-a8cb-d949b25a40aa button.colab-df-convert');\n",
              "        buttonEl.style.display =\n",
              "          google.colab.kernel.accessAllowed ? 'block' : 'none';\n",
              "\n",
              "        async function convertToInteractive(key) {\n",
              "          const element = document.querySelector('#df-4a0c1881-f6e5-4c5c-a8cb-d949b25a40aa');\n",
              "          const dataTable =\n",
              "            await google.colab.kernel.invokeFunction('convertToInteractive',\n",
              "                                                     [key], {});\n",
              "          if (!dataTable) return;\n",
              "\n",
              "          const docLinkHtml = 'Like what you see? Visit the ' +\n",
              "            '<a target=\"_blank\" href=https://colab.research.google.com/notebooks/data_table.ipynb>data table notebook</a>'\n",
              "            + ' to learn more about interactive tables.';\n",
              "          element.innerHTML = '';\n",
              "          dataTable['output_type'] = 'display_data';\n",
              "          await google.colab.output.renderOutput(dataTable, element);\n",
              "          const docLink = document.createElement('div');\n",
              "          docLink.innerHTML = docLinkHtml;\n",
              "          element.appendChild(docLink);\n",
              "        }\n",
              "      </script>\n",
              "    </div>\n",
              "  </div>\n",
              "  "
            ]
          },
          "metadata": {},
          "execution_count": 6
        }
      ]
    },
    {
      "cell_type": "markdown",
      "source": [
        "2) Brief description of data.\n",
        "\n",
        "This Data set has information about different health conditions that can influence the development of diabetes. Using those conditions I will try to make a Machine Learning Model that can predict diabetes."
      ],
      "metadata": {
        "id": "Etwcmb-kJk4b"
      }
    },
    {
      "cell_type": "code",
      "source": [
        "diabetes_df.info()"
      ],
      "metadata": {
        "colab": {
          "base_uri": "https://localhost:8080/"
        },
        "id": "tzCVbE_yLDIz",
        "outputId": "645eb791-4fe1-4cde-8027-e33f4cb6a38a"
      },
      "execution_count": 7,
      "outputs": [
        {
          "output_type": "stream",
          "name": "stdout",
          "text": [
            "<class 'pandas.core.frame.DataFrame'>\n",
            "RangeIndex: 768 entries, 0 to 767\n",
            "Data columns (total 8 columns):\n",
            " #   Column             Non-Null Count  Dtype  \n",
            "---  ------             --------------  -----  \n",
            " 0   NoofPregnancies    768 non-null    int64  \n",
            " 1   GlucoseLevel       768 non-null    int64  \n",
            " 2   DiastolicPressure  768 non-null    int64  \n",
            " 3   Insulin Level      768 non-null    int64  \n",
            " 4   BMI                768 non-null    float64\n",
            " 5   RelativeHistory    768 non-null    float64\n",
            " 6   Age                768 non-null    int64  \n",
            " 7   Diabetic           768 non-null    int64  \n",
            "dtypes: float64(2), int64(6)\n",
            "memory usage: 48.1 KB\n"
          ]
        }
      ]
    },
    {
      "cell_type": "markdown",
      "source": [
        "3) What is the target?\n",
        "\n",
        "My target column will be - 'Diabetic' \n",
        "\n",
        "4) Is this a classification or regression problem?\n",
        "\n",
        "It is a classification problem. I decided to choose a set for classification, because I used regression in my first Project.\n",
        "\n",
        "5) How many features? \n",
        "\n",
        "This Data has 8 columns.\n",
        "\n",
        "6) How many rows of data?\n",
        "\n",
        "This Data has 768 rows."
      ],
      "metadata": {
        "id": "ESXZVLjMKf4B"
      }
    },
    {
      "cell_type": "code",
      "source": [
        "diabetes_df.shape"
      ],
      "metadata": {
        "colab": {
          "base_uri": "https://localhost:8080/"
        },
        "id": "e0rWhE8cKeOw",
        "outputId": "f1a465f3-271a-41c0-8b85-3ac700db3e20"
      },
      "execution_count": 8,
      "outputs": [
        {
          "output_type": "execute_result",
          "data": {
            "text/plain": [
              "(768, 8)"
            ]
          },
          "metadata": {},
          "execution_count": 8
        }
      ]
    },
    {
      "cell_type": "markdown",
      "source": [
        "7) What, if any, challenges do your foresee in cleaning, exploring, or modeling with this dataset?\n",
        "\n",
        "I will need to read more about all health conditions, to be able to fill missing Data the best possible way."
      ],
      "metadata": {
        "id": "zJDUwAkqK-4O"
      }
    }
  ]
}